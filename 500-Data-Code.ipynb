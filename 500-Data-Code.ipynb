{
 "cells": [
  {
   "cell_type": "code",
   "execution_count": 4,
   "metadata": {},
   "outputs": [
    {
     "name": "stdout",
     "output_type": "stream",
     "text": [
      "20\n",
      "500\n"
     ]
    },
    {
     "ename": "NameError",
     "evalue": "name 'driver' is not defined",
     "output_type": "error",
     "traceback": [
      "\u001b[1;31m---------------------------------------------------------------------------\u001b[0m",
      "\u001b[1;31mNameError\u001b[0m                                 Traceback (most recent call last)",
      "\u001b[1;32m<ipython-input-4-bae5f470b960>\u001b[0m in \u001b[0;36m<module>\u001b[1;34m\u001b[0m\n\u001b[0;32m     29\u001b[0m \u001b[0mprint\u001b[0m\u001b[1;33m(\u001b[0m\u001b[0mlen\u001b[0m\u001b[1;33m(\u001b[0m\u001b[0mlinks\u001b[0m\u001b[1;33m)\u001b[0m\u001b[1;33m)\u001b[0m\u001b[1;33m\u001b[0m\u001b[1;33m\u001b[0m\u001b[0m\n\u001b[0;32m     30\u001b[0m \u001b[1;33m\u001b[0m\u001b[0m\n\u001b[1;32m---> 31\u001b[1;33m \u001b[0mdriver\u001b[0m\u001b[1;33m.\u001b[0m\u001b[0mclose\u001b[0m\u001b[1;33m(\u001b[0m\u001b[1;33m)\u001b[0m\u001b[1;33m\u001b[0m\u001b[1;33m\u001b[0m\u001b[0m\n\u001b[0m",
      "\u001b[1;31mNameError\u001b[0m: name 'driver' is not defined"
     ]
    }
   ],
   "source": [
    "from selenium import webdriver\n",
    "import time\n",
    "\n",
    "driver_1=webdriver.Chrome('G:\\chromedriver.exe')\n",
    "links,urls=[],[]\n",
    "for i in range(1,21):\n",
    "    url=f\"https://www.martindale.com/all-lawyers/new-york/new-york/?page={i}\"\n",
    "    urls.append(url)\n",
    "\n",
    "    \n",
    "print(len(urls))\n",
    "\n",
    "for j in urls:\n",
    "    \n",
    "    driver_1.get(j)\n",
    "    time.sleep(3)\n",
    "\n",
    "    driver_1.implicitly_wait(2)\n",
    "\n",
    "    #source=driver.page_source\n",
    "   \n",
    "\n",
    "    for i in driver_1.find_elements_by_xpath(\"//a[@class='opt-d-title']\"):\n",
    "\n",
    "        links.append(i.get_attribute('href'))\n",
    "\n",
    "\n",
    "\n",
    "print(len(links))\n",
    "\n",
    "driver.close()\n"
   ]
  },
  {
   "cell_type": "code",
   "execution_count": 6,
   "metadata": {},
   "outputs": [
    {
     "name": "stdout",
     "output_type": "stream",
     "text": [
      "500\n"
     ]
    }
   ],
   "source": [
    "print(len(links))"
   ]
  },
  {
   "cell_type": "code",
   "execution_count": 11,
   "metadata": {},
   "outputs": [
    {
     "name": "stdout",
     "output_type": "stream",
     "text": [
      "https://www.martindale.com/attorney/robert-charles-sentner-472623/\n"
     ]
    }
   ],
   "source": [
    "import pymongo\n",
    "eg=links[0]\n",
    "print(eg)\n",
    "    \n",
    "driver2=webdriver.Chrome('G:\\chromedriver.exe')\n",
    "for l in links:\n",
    "    \n",
    "    \n",
    "\n",
    "    driver2.get(l)\n",
    "    time.sleep(4)\n",
    "    try:\n",
    "        name=driver2.find_element_by_xpath(\"//h1[@class='profile-title--bold']\").text\n",
    "    except:\n",
    "        name='-'\n",
    "    try:\n",
    "        #isln=driver1.find_element_by_xpath('//div/div[3]/div/div/div[9]/div[2]').text\n",
    "        isln=driver2.find_element_by_xpath('//div[text()[contains(.,\"ISLN:\")]]/following-sibling::div').text\n",
    "    except:\n",
    "        isln='-'\n",
    "    try:\n",
    "        title=driver2.find_element_by_xpath('//li[@class=\"masthead-list__item masthead-list__item--bold\"]').text\n",
    "        #title=driver2.find_element_by_xpath('//section[1]/div[2]/div[2]/ul/li[1]').text()\n",
    "    except:\n",
    "        title='-'\n",
    "\n",
    "    try:\n",
    "        company=driver2.find_element_by_xpath('//a[@class=\"link link--gray\"]').get_attribute('title')\n",
    "    except:\n",
    "        company='-'\n",
    "\n",
    "    try:\n",
    "        #address=driver1.find_element_by_xpath('//address[@class=\"cta-primary cta-4822878\"]').text\n",
    "        address=driver2.find_element_by_xpath('//address').text\n",
    "    except:\n",
    "        address='-'\n",
    "    try:\n",
    "        phone=driver2.find_element_by_xpath('//div/div/div[1]/div[2]/span[1]').text\n",
    "    except:\n",
    "        phone='-'\n",
    "    try:\n",
    "        fax=driver2.find_element_by_xpath('//div[3]/div/div/div[1]/div[2]/span[3]').text\n",
    "    except:\n",
    "        fax='-'\n",
    "    try:\n",
    "        #law_school=driver2.find_element_by_xpath('//div/div[3]/div/div/div[3]/div[2]').text\n",
    "        law_school=driver2.find_element_by_xpath('//div[text()[contains(.,\"Law School Attended:\")]]/following-sibling::div').text\n",
    "        \n",
    "    except:\n",
    "        law_school='-'\n",
    "\n",
    "    try:\n",
    "        #link=driver2.find_element_by_xpath('//a[@class=\"view-website webstats-website-click\"]').get_attribute('href')\n",
    "        link=l\n",
    "    except:\n",
    "        link='-'\n",
    "    #print(name,isln,title,company,address,phone,fax,law_school,link)\n",
    "    \n",
    "    dic1={\n",
    "                     'Name':name,\n",
    "                    'ISLN':isln,\n",
    "                    'Title':title,\n",
    "                    'Company':company,\n",
    "                     'Address':address,\n",
    "                     'Phone':phone,\n",
    "                    'Fax':fax,\n",
    "                     'Law_school':law_school,\n",
    "                     'Profile_link':link\n",
    "                   \n",
    "                    \n",
    "                    }\n",
    "\n",
    "    cli=pymongo.MongoClient()\n",
    "    db=cli['Martindale']\n",
    "    conn=db['Lawyers-Info']\n",
    "                \n",
    "    conn.insert_one(dic1)\n"
   ]
  },
  {
   "cell_type": "code",
   "execution_count": 8,
   "metadata": {},
   "outputs": [
    {
     "name": "stdout",
     "output_type": "stream",
     "text": [
      "500\n"
     ]
    }
   ],
   "source": [
    "print(len(links))"
   ]
  },
  {
   "cell_type": "code",
   "execution_count": null,
   "metadata": {},
   "outputs": [],
   "source": []
  }
 ],
 "metadata": {
  "kernelspec": {
   "display_name": "Python 3",
   "language": "python",
   "name": "python3"
  },
  "language_info": {
   "codemirror_mode": {
    "name": "ipython",
    "version": 3
   },
   "file_extension": ".py",
   "mimetype": "text/x-python",
   "name": "python",
   "nbconvert_exporter": "python",
   "pygments_lexer": "ipython3",
   "version": "3.7.4"
  }
 },
 "nbformat": 4,
 "nbformat_minor": 2
}
